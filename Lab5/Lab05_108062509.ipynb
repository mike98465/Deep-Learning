{
 "cells": [
  {
   "cell_type": "code",
   "execution_count": null,
   "metadata": {
    "colab": {},
    "colab_type": "code",
    "id": "s2XF_PAp1nHL"
   },
   "outputs": [],
   "source": [
    "import pandas as pd\n",
    "import numpy as np\n",
    "from sklearn.preprocessing import PolynomialFeatures\n",
    "from sklearn.linear_model import LinearRegression\n",
    "from sklearn.metrics import r2_score\n",
    "from sklearn.metrics import mean_squared_error\n",
    "from pylab import *\n",
    "from sklearn.model_selection import train_test_split"
   ]
  },
  {
   "cell_type": "markdown",
   "metadata": {
    "colab_type": "text",
    "id": "LbnsQLXx2ZiS"
   },
   "source": [
    "##use mse and accuracy to evaluate model\n",
    "##split dataset into training data and validation data with ratio 8:2"
   ]
  },
  {
   "cell_type": "code",
   "execution_count": null,
   "metadata": {
    "colab": {},
    "colab_type": "code",
    "id": "-Og3ArK411El"
   },
   "outputs": [],
   "source": [
    "X = pd.read_csv('X_train.csv')\n",
    "y = pd.read_csv('y_train.csv')\n",
    "\n",
    "#X = X.drop(['PERIOD','GAME_CLOCK','PTS_TYPE','CLOSE_DEF_DIST','SHOT_CLOCK'], axis=1)\n",
    "\n",
    "X_test = pd.read_csv('X_test.csv')\n",
    "\n",
    "X_train, X_valid, y_train, y_valid = train_test_split(\n",
    "        X, y, test_size=0.2, random_state=0)"
   ]
  },
  {
   "cell_type": "code",
   "execution_count": null,
   "metadata": {
    "colab": {},
    "colab_type": "code",
    "id": "xqr64YZ75bBq"
   },
   "outputs": [],
   "source": [
    "from sklearn.preprocessing import StandardScaler\n",
    "\n",
    "sc_x = StandardScaler()\n",
    "X_train_std = sc_x.fit_transform(X_train)\n",
    "X_valid_std = sc_x.fit_transform(X_valid)\n",
    "X_test_std = sc_x.fit_transform(X_test)"
   ]
  },
  {
   "cell_type": "markdown",
   "metadata": {},
   "source": [
    "##把所有x cloumn的值與要預測的y個別印出分布關係，來決定要選哪些features"
   ]
  },
  {
   "cell_type": "code",
   "execution_count": 14,
   "metadata": {
    "colab": {
     "base_uri": "https://localhost:8080/",
     "height": 719
    },
    "colab_type": "code",
    "id": "Qy-YDqc66_qd",
    "outputId": "5211d4b0-e0d3-4c54-e84a-eadefb83b0b1"
   },
   "outputs": [
    {
     "data": {
      "image/png": "[encoded data removed]",
      "text/plain": [
       "<Figure size 1440x864 with 10 Axes>"
      ]
     },
     "metadata": {
      "tags": []
     },
     "output_type": "display_data"
    }
   ],
   "source": [
    "#feature selection \n",
    "x_vars = [\n",
    "    'PERIOD', 'GAME_CLOCK', 'SHOT_CLOCK', 'DRIBBLES', 'TOUCH_TIME', 'SHOT_DIST', 'PTS_TYPE', 'CLOSE_DEF_DIST'\n",
    "]\n",
    "\n",
    "_, subplot_arr = plt.subplots(2, 5, figsize=(20, 12))\n",
    "for idx, x_var in enumerate(x_vars):\n",
    "  x_idx = idx // 5\n",
    "  y_idx = idx % 5\n",
    "  subplot_arr[x_idx, y_idx].scatter(X[x_var], y['FGM'])\n",
    "  subplot_arr[x_idx, y_idx].set_xlabel(x_var)\n",
    "\n",
    "plt.show()"
   ]
  },
  {
   "cell_type": "markdown",
   "metadata": {
    "colab_type": "text",
    "id": "q7yj3NP-2ZiW"
   },
   "source": [
    "##selected model: polynomial regression with Lasso (alpha = 0.001) and test model complexity\n",
    "output_threshold function 將 predict 出來的結果，轉成 0 和 1 ，用來幫助計算 accuracy (Theshold 設為 0.5，因為值是在 0~1 之間)"
   ]
  },
  {
   "cell_type": "code",
   "execution_count": 16,
   "metadata": {
    "colab": {
     "base_uri": "https://localhost:8080/",
     "height": 802
    },
    "colab_type": "code",
    "id": "obo0HzVBBJpv",
    "outputId": "91e594a0-2dd7-445e-f4ec-b186f84394f1"
   },
   "outputs": [
    {
     "name": "stdout",
     "output_type": "stream",
     "text": [
      "\n",
      "[Degree = 1]\n",
      "Training Accuracy : 0.606097\n",
      "Validation Accuracy : 0.613454\n",
      "MSE train: 0.23, valid: 0.23\n",
      "\n",
      "[Degree = 2]\n",
      "Training Accuracy : 0.614471\n",
      "Validation Accuracy : 0.620134\n",
      "MSE train: 0.23, valid: 0.23\n"
     ]
    },
    {
     "name": "stderr",
     "output_type": "stream",
     "text": [
      "/usr/local/lib/python3.6/dist-packages/sklearn/linear_model/coordinate_descent.py:475: ConvergenceWarning: Objective did not converge. You might want to increase the number of iterations. Duality gap: 4020.779036545843, tolerance: 1.0400774350533182\n",
      "  positive)\n"
     ]
    },
    {
     "name": "stdout",
     "output_type": "stream",
     "text": [
      "\n",
      "[Degree = 3]\n",
      "Training Accuracy : 0.619433\n",
      "Validation Accuracy : 0.621279\n",
      "MSE train: 0.23, valid: 0.23\n"
     ]
    },
    {
     "name": "stderr",
     "output_type": "stream",
     "text": [
      "/usr/local/lib/python3.6/dist-packages/sklearn/linear_model/coordinate_descent.py:475: ConvergenceWarning: Objective did not converge. You might want to increase the number of iterations. Duality gap: 4783.448532167566, tolerance: 1.0400774350533182\n",
      "  positive)\n"
     ]
    },
    {
     "name": "stdout",
     "output_type": "stream",
     "text": [
      "\n",
      "[Degree = 4]\n",
      "Training Accuracy : 0.621556\n",
      "Validation Accuracy : 0.621660\n",
      "MSE train: 0.23, valid: 0.23\n"
     ]
    },
    {
     "name": "stderr",
     "output_type": "stream",
     "text": [
      "/usr/local/lib/python3.6/dist-packages/sklearn/linear_model/coordinate_descent.py:475: ConvergenceWarning: Objective did not converge. You might want to increase the number of iterations. Duality gap: 4812.685939691996, tolerance: 1.0400774350533182\n",
      "  positive)\n"
     ]
    },
    {
     "name": "stdout",
     "output_type": "stream",
     "text": [
      "\n",
      "[Degree = 5]\n",
      "Training Accuracy : 0.623584\n",
      "Validation Accuracy : 0.621279\n",
      "MSE train: 0.23, valid: 0.23\n"
     ]
    },
    {
     "name": "stderr",
     "output_type": "stream",
     "text": [
      "/usr/local/lib/python3.6/dist-packages/sklearn/linear_model/coordinate_descent.py:475: ConvergenceWarning: Objective did not converge. You might want to increase the number of iterations. Duality gap: 4788.104101708274, tolerance: 1.0400774350533182\n",
      "  positive)\n"
     ]
    },
    {
     "name": "stdout",
     "output_type": "stream",
     "text": [
      "\n",
      "[Degree = 6]\n",
      "Training Accuracy : 0.626399\n",
      "Validation Accuracy : 0.619179\n",
      "MSE train: 0.23, valid: 0.23\n"
     ]
    },
    {
     "name": "stderr",
     "output_type": "stream",
     "text": [
      "/usr/local/lib/python3.6/dist-packages/sklearn/linear_model/coordinate_descent.py:475: ConvergenceWarning: Objective did not converge. You might want to increase the number of iterations. Duality gap: 4755.609200196916, tolerance: 1.0400774350533182\n",
      "  positive)\n"
     ]
    },
    {
     "name": "stdout",
     "output_type": "stream",
     "text": [
      "\n",
      "[Degree = 7]\n",
      "Training Accuracy : 0.630335\n",
      "Validation Accuracy : 0.619847\n",
      "MSE train: 0.22, valid: 0.24\n"
     ]
    }
   ],
   "source": [
    "from sklearn.linear_model import Lasso\n",
    "from sklearn.preprocessing import StandardScaler\n",
    "from sklearn.metrics import accuracy_score\n",
    "import csv\n",
    "\n",
    "def output_threshold(pred):\n",
    "    #print(pred)\n",
    "    #print(len(pred))\n",
    "    for i in range(len(pred)):\n",
    "        if pred[i] >= 0.5:\n",
    "            pred[i] = 1\n",
    "        else:\n",
    "            pred[i] = 0\n",
    "    #print(pred)\n",
    "    return pred\n",
    "    \n",
    "maxdegree = 7\n",
    "a = [0.001, 0.01, 0.1, 1, 10]\n",
    "\n",
    "mse_train = []\n",
    "mse_valid = []\n",
    "accuracy_train = []\n",
    "accuracy_valid = []\n",
    "\n",
    "for d in range(1, maxdegree + 1):\n",
    "    poly = PolynomialFeatures(degree=d)\n",
    "    X_train_poly = poly.fit_transform(X_train_std)\n",
    "    X_valid_poly = poly.fit_transform(X_valid_std)\n",
    "    X_test_poly = poly.fit_transform(X_test_std)\n",
    "    \n",
    "    rg = Lasso(alpha=a[0])\n",
    "    rg.fit(X_train_poly, y_train)\n",
    "    \n",
    "    y_train_pred = rg.predict(X_train_poly)\n",
    "    y_valid_pred = rg.predict(X_valid_poly)\n",
    "    y_test_pred = rg.predict(X_test_poly)\n",
    "    \n",
    "    train_y = np.copy(y_train_pred)\n",
    "    valid_y = np.copy(y_valid_pred)\n",
    "    test_y = np.copy(y_test_pred)\n",
    "    \n",
    "    y_train_output = output_threshold(train_y)\n",
    "    y_valid_output = output_threshold(valid_y)\n",
    "    \n",
    "    if d == 4:\n",
    "        y_test_output = output_threshold(test_y)\n",
    "        name=['FGM']\n",
    "        test=pd.DataFrame(columns=name,data=y_test_output)\n",
    "        test.to_csv('y_test.csv',encoding='gbk')\n",
    "        \n",
    "    \n",
    "    mse_train.append(mean_squared_error(y_train, y_train_pred))\n",
    "    mse_valid.append(mean_squared_error(y_valid, y_valid_pred))\n",
    "   \n",
    "    print('\\n[Degree = %d]' % d)\n",
    "    print('Training Accuracy : %f' % accuracy_score(y_train, y_train_output))\n",
    "    print('Validation Accuracy : %f' % accuracy_score(y_valid, y_valid_output))\n",
    "    print('MSE train: %.2f, valid: %.2f' % (\n",
    "                    mean_squared_error(y_train, y_train_pred),\n",
    "                    mean_squared_error(y_valid, y_valid_pred))) \n",
    "    \n",
    "    accuracy_train.append(accuracy_score(y_train, y_train_output))\n",
    "    accuracy_valid.append(accuracy_score(y_valid, y_valid_output))"
   ]
  },
  {
   "cell_type": "markdown",
   "metadata": {
    "colab_type": "text",
    "id": "EAREo-2b2ZiZ"
   },
   "source": [
    "##畫出mse及model complexity間的曲線圖\n",
    "發現在degree = 3 時，validation 的 mse就不再下降反而上升\n",
    "因此在這個case裡，polynomial 的 degree 若大於 3 ， training 可能就開始有 overfitting 的跡象"
   ]
  },
  {
   "cell_type": "code",
   "execution_count": 6,
   "metadata": {
    "colab": {
     "base_uri": "https://localhost:8080/",
     "height": 297
    },
    "colab_type": "code",
    "id": "t_UMSMaJg2Uj",
    "outputId": "4f45b701-280c-423c-a59e-173cefb65025"
   },
   "outputs": [
    {
     "data": {
      "image/png": "[encoded data removed]",
      "text/plain": [
       "<Figure size 432x288 with 1 Axes>"
      ]
     },
     "metadata": {
      "tags": []
     },
     "output_type": "display_data"
    }
   ],
   "source": [
    "plt.plot(range(1, maxdegree + 1), mse_train, label = 'Training error', color = 'blue', linewidth = 2)\n",
    "plt.plot(range(1, maxdegree + 1), mse_valid, label = 'Validation error', color = 'red', linewidth = 2)\n",
    "plt.legend(loc='upper right')\n",
    "plt.xlabel('Model complexity (polynomial degree)')\n",
    "plt.ylabel('$MSE$')\n",
    "plt.tight_layout()\n",
    "plt.savefig('fig-error-curve.png', dpi=300)\n",
    "plt.show()"
   ]
  },
  {
   "cell_type": "markdown",
   "metadata": {
    "colab_type": "text",
    "id": "ZJKBdlV02Zic"
   },
   "source": [
    "##畫出accuracy及model complexity間的曲線圖\n",
    "發現在degree = 4 時，validation 的 accuracy 就不再上升，之後 degree 越高反而越低\n",
    "代表 training 可能開始有 overfitting 的跡象"
   ]
  },
  {
   "cell_type": "code",
   "execution_count": 7,
   "metadata": {
    "colab": {
     "base_uri": "https://localhost:8080/",
     "height": 297
    },
    "colab_type": "code",
    "id": "Ph_aaI-khSn2",
    "outputId": "203bebef-ace7-462c-a2a1-e27881c5b9b4"
   },
   "outputs": [
    {
     "data": {
      "image/png": "[encoded data removed]",
      "text/plain": [
       "<Figure size 432x288 with 1 Axes>"
      ]
     },
     "metadata": {
      "tags": []
     },
     "output_type": "display_data"
    }
   ],
   "source": [
    "plt.plot(range(1, maxdegree + 1), accuracy_train, label = 'Training accuracy', color = 'blue', linewidth = 2)\n",
    "plt.plot(range(1, maxdegree + 1), accuracy_valid, label = 'Validation accuracy', color = 'red', linewidth = 2)\n",
    "plt.legend(loc='upper right')\n",
    "plt.xlabel('Model complexity (polynomial degree)')\n",
    "plt.ylabel('accuracy')\n",
    "plt.tight_layout()\n",
    "plt.savefig('fig-accuracy-curve.png', dpi=300)\n",
    "plt.show()\n"
   ]
  },
  {
   "cell_type": "markdown",
   "metadata": {
    "colab_type": "text",
    "id": "0K517MIQ2Zif"
   },
   "source": [
    "##下面還測試過的model:\n",
    "* polynomial regression degree 1 to 7 with Ridge 在 mse 及 accuracy 表現\n",
    "* decision tree 在 max_depth 不同時的 accuracy 表現  \n",
    "* random forest 在 n_estimators 不同時的 accuracy 表現"
   ]
  },
  {
   "cell_type": "code",
   "execution_count": null,
   "metadata": {
    "colab": {
     "base_uri": "https://localhost:8080/",
     "height": 646
    },
    "colab_type": "code",
    "id": "cx3xwEjc7WPw",
    "outputId": "371852b2-ba85-4756-8bce-0b915aeb209b"
   },
   "outputs": [
    {
     "name": "stdout",
     "output_type": "stream",
     "text": [
      "\n",
      "[Degree = 1]\n",
      "training accuracy : 0.54\n",
      "validating accuracy : 0.55\n",
      "MSE train: 0.25, valid: 0.25\n",
      "\n",
      "[Degree = 2]\n",
      "training accuracy : 0.54\n",
      "validating accuracy : 0.55\n",
      "MSE train: 0.25, valid: 0.25\n",
      "\n",
      "[Degree = 3]\n",
      "training accuracy : 0.54\n",
      "validating accuracy : 0.55\n",
      "MSE train: 0.25, valid: 0.25\n",
      "\n",
      "[Degree = 4]\n",
      "training accuracy : 0.55\n",
      "validating accuracy : 0.55\n",
      "MSE train: 0.25, valid: 0.25\n",
      "\n",
      "[Degree = 5]\n",
      "training accuracy : 0.57\n",
      "validating accuracy : 0.56\n",
      "MSE train: 0.24, valid: 0.24\n",
      "\n",
      "[Degree = 6]\n",
      "training accuracy : 0.58\n",
      "validating accuracy : 0.58\n",
      "MSE train: 0.24, valid: 0.24\n"
     ]
    },
    {
     "name": "stderr",
     "output_type": "stream",
     "text": [
      "/usr/local/lib/python3.6/dist-packages/sklearn/linear_model/ridge.py:147: LinAlgWarning: Ill-conditioned matrix (rcond=2.2356e-20): result may not be accurate.\n",
      "  overwrite_a=True).T\n"
     ]
    },
    {
     "name": "stdout",
     "output_type": "stream",
     "text": [
      "\n",
      "[Degree = 7]\n",
      "training accuracy : 0.60\n",
      "validating accuracy : 0.60\n",
      "MSE train: 0.24, valid: 0.24\n"
     ]
    }
   ],
   "source": [
    "#polynomial from degree 1 to 7 with Ridge regression\n",
    "from sklearn.linear_model import Ridge\n",
    "from sklearn.preprocessing import StandardScaler\n",
    "from sklearn.metrics import accuracy_score\n",
    "\n",
    "def output_threshold(pred):\n",
    "    #print(pred)\n",
    "    #print(len(pred))\n",
    "    for i in range(len(pred)):\n",
    "        if pred[i] >= 0.5:\n",
    "            pred[i] = 1\n",
    "        else:\n",
    "            pred[i] = 0\n",
    "    #print(pred)\n",
    "    return pred\n",
    "    \n",
    "maxdegree = 7\n",
    "mse_train = []\n",
    "mse_valid = []\n",
    "    \n",
    "for d in range(1, maxdegree + 1):\n",
    "    poly = PolynomialFeatures(degree=d)\n",
    "    X_train_poly = poly.fit_transform(X_train_std)\n",
    "    X_valid_poly = poly.fit_transform(X_valid_std)\n",
    "    X_test_poly = poly.fit_transform(X_test_std)\n",
    "    \n",
    "    rg = Ridge(alpha=10000000)\n",
    "    rg.fit(X_train_poly, y_train)\n",
    "    \n",
    "    y_train_pred = rg.predict(X_train_poly)\n",
    "    y_valid_pred = rg.predict(X_valid_poly)\n",
    "    train_y = np.copy(y_train_pred)\n",
    "    valid_y = np.copy(y_valid_pred)\n",
    "    \n",
    "    y_train_output = output_threshold(train_y)\n",
    "    y_valid_output = output_threshold(valid_y)\n",
    "    \n",
    "    mse_train.append(mean_squared_error(y_train, y_train_pred))\n",
    "    mse_valid.append(mean_squared_error(y_valid, y_valid_pred))\n",
    "    \n",
    "    print('\\n[Degree = %d]' % d)\n",
    "    print('training accuracy : %.2f' % accuracy_score(y_train, y_train_output))\n",
    "    print('validation accuracy : %.2f' % accuracy_score(y_valid, y_valid_output))\n",
    "    print('MSE train: %.2f, valid: %.2f' % (\n",
    "                    mean_squared_error(y_train, y_train_pred),\n",
    "                    mean_squared_error(y_valid, y_valid_pred))) "
   ]
  },
  {
   "cell_type": "code",
   "execution_count": null,
   "metadata": {
    "colab": {},
    "colab_type": "code",
    "id": "G4QucCvAqFgP"
   },
   "outputs": [],
   "source": [
    "plt.plot(range(1, maxdegree + 1), mse_train, label = 'Training error', color = 'blue', linewidth = 2)\n",
    "plt.plot(range(1, maxdegree + 1), mse_valid, label = 'Validation error', color = 'red', linewidth = 2)\n",
    "plt.legend(loc='upper right')\n",
    "plt.xlabel('Model complexity (polynomial degree)')\n",
    "plt.ylabel('$MSE$')\n",
    "plt.tight_layout()\n",
    "plt.savefig('fig-error-curve1.png', dpi=300)\n",
    "plt.show()"
   ]
  },
  {
   "cell_type": "code",
   "execution_count": null,
   "metadata": {
    "colab": {},
    "colab_type": "code",
    "id": "hn_aMvER2Zik"
   },
   "outputs": [],
   "source": [
    "plt.plot(range(1, maxdegree + 1), accuracy_train, label = 'Training accuracy', color = 'blue', linewidth = 2)\n",
    "plt.plot(range(1, maxdegree + 1), accuracy_valid, label = 'Validation accuracy', color = 'red', linewidth = 2)\n",
    "plt.legend(loc='upper right')\n",
    "plt.xlabel('Model complexity (polynomial degree)')\n",
    "plt.ylabel('accuracy')\n",
    "plt.tight_layout()\n",
    "plt.savefig('fig-accuracy-curve1.png', dpi=300)\n",
    "plt.show()"
   ]
  },
  {
   "cell_type": "code",
   "execution_count": null,
   "metadata": {
    "colab": {
     "base_uri": "https://localhost:8080/",
     "height": 901
    },
    "colab_type": "code",
    "id": "01g4Bpp7hG49",
    "outputId": "aa7fa79a-51e0-4813-e749-a0e443b6f44a"
   },
   "outputs": [
    {
     "name": "stdout",
     "output_type": "stream",
     "text": [
      "Max depth: 1\n",
      "training Accuracy: 0.61\n",
      "validating Accuracy: 0.61\n",
      "\n",
      "Max depth: 2\n",
      "training Accuracy: 0.61\n",
      "validating Accuracy: 0.61\n",
      "\n",
      "Max depth: 3\n",
      "training Accuracy: 0.61\n",
      "validating Accuracy: 0.61\n",
      "\n",
      "Max depth: 4\n",
      "training Accuracy: 0.61\n",
      "validating Accuracy: 0.62\n",
      "\n",
      "Max depth: 5\n",
      "training Accuracy: 0.62\n",
      "validating Accuracy: 0.62\n",
      "\n",
      "Max depth: 6\n",
      "training Accuracy: 0.62\n",
      "validating Accuracy: 0.62\n",
      "\n",
      "Max depth: 7\n",
      "training Accuracy: 0.63\n",
      "validating Accuracy: 0.62\n",
      "\n",
      "Max depth: 8\n",
      "training Accuracy: 0.63\n",
      "validating Accuracy: 0.61\n",
      "\n",
      "Max depth: 9\n",
      "training Accuracy: 0.64\n",
      "validating Accuracy: 0.61\n",
      "\n",
      "Max depth: 10\n",
      "training Accuracy: 0.64\n",
      "validating Accuracy: 0.61\n",
      "\n",
      "Max depth: 11\n",
      "training Accuracy: 0.65\n",
      "validating Accuracy: 0.60\n",
      "\n",
      "Max depth: 12\n",
      "training Accuracy: 0.67\n",
      "validating Accuracy: 0.59\n",
      "\n",
      "Max depth: 13\n",
      "training Accuracy: 0.68\n",
      "validating Accuracy: 0.59\n",
      "\n"
     ]
    }
   ],
   "source": [
    "#decision tree\n",
    "from sklearn.tree import DecisionTreeClassifier\n",
    "from sklearn.metrics import accuracy_score\n",
    "\n",
    "for i in range(1,14):\n",
    "    tree = DecisionTreeClassifier(criterion='entropy', \n",
    "                                  max_depth=i, \n",
    "                                  random_state=0)\n",
    "    tree.fit(X_train, y_train)\n",
    "    y_train_pred = tree.predict(X_train)\n",
    "    y_valid_pred = tree.predict(X_valid)\n",
    "    \n",
    "    print('Max depth: %d' % i)\n",
    "    print('Training Accuracy: %.2f' % accuracy_score(y_train, y_train_pred))\n",
    "    print('Validation Accuracy: %.2f\\n' % accuracy_score(y_valid, y_valid_pred))"
   ]
  },
  {
   "cell_type": "code",
   "execution_count": null,
   "metadata": {
    "colab": {
     "base_uri": "https://localhost:8080/",
     "height": 357
    },
    "colab_type": "code",
    "id": "EpXC_6x1joFj",
    "outputId": "4ff4ff6a-3c99-45e4-e479-e3245f463a40"
   },
   "outputs": [
    {
     "name": "stdout",
     "output_type": "stream",
     "text": [
      "n_estimators: 1\n",
      "Training Accuracy: 0.83\n",
      "Validating Accuracy: 0.54\n",
      "\n",
      "n_estimators: 5\n",
      "Training Accuracy: 0.95\n",
      "Validating Accuracy: 0.56\n",
      "\n",
      "n_estimators: 10\n",
      "Training Accuracy: 0.98\n",
      "Validating Accuracy: 0.58\n",
      "\n",
      "n_estimators: 50\n",
      "Training Accuracy: 1.00\n",
      "Validating Accuracy: 0.59\n",
      "\n",
      "n_estimators: 100\n",
      "Training Accuracy: 1.00\n",
      "Validating Accuracy: 0.60\n",
      "\n"
     ]
    }
   ],
   "source": [
    "#Random Forest\n",
    "from sklearn.ensemble import RandomForestClassifier\n",
    "\n",
    "n = [1,5,10,50,100]\n",
    "\n",
    "for i in n:\n",
    "    forest = RandomForestClassifier(criterion='entropy',\n",
    "                                    n_estimators=i, \n",
    "                                    random_state=1,\n",
    "                                    n_jobs=2)\n",
    "    forest.fit(X_train, ravel(y_train))\n",
    "\n",
    "    y_train_pred = forest.predict(X_train)\n",
    "    y_valid_pred = forest.predict(X_valid)\n",
    "    print('n_estimators: %d' % i)\n",
    "    print('Training Accuracy: %.2f' % accuracy_score(y_train, y_train_pred))\n",
    "    print('Validating Accuracy: %.2f\\n' % accuracy_score(y_valid, y_valid_pred))"
   ]
  },
  {
   "cell_type": "markdown",
   "metadata": {
    "colab_type": "text",
    "id": "KVCSonJb2Zip"
   },
   "source": [
    "##Brief report\n",
    "我總共測試了4種model，但最好的 accuracy 大概都在 0.62 左右，\n",
    "發現 random forest 的表現竟然比 decision tree差，\n",
    "沒想到一棵Tree會比多個表現要好。\n",
    "另外也有測試過 Lasso 和 Ridge 在不同 alpha值時的結果，\n",
    "發現 Ridge 在 alpha 值設定太小的時候，mse會爆掉，\n",
    "因此才將 Ridge 的 alpha 值設定到10000000。\n",
    "feature selection 在這次要predict的case上幫助不大，\n",
    "最後我的model都是用全部的feature。\n",
    "* 選擇的三個feature: DRIBBLES、TOUCH_TIME、SHOT_DIST"
   ]
  }
 ],
 "metadata": {
  "colab": {
   "collapsed_sections": [],
   "name": "Lab05_108062509.ipynb",
   "provenance": [],
   "toc_visible": true
  },
  "kernelspec": {
   "display_name": "Python 3",
   "language": "python",
   "name": "python3"
  },
  "language_info": {
   "codemirror_mode": {
    "name": "ipython",
    "version": 3
   },
   "file_extension": ".py",
   "mimetype": "text/x-python",
   "name": "python",
   "nbconvert_exporter": "python",
   "pygments_lexer": "ipython3",
   "version": "3.7.3"
  }
 },
 "nbformat": 4,
 "nbformat_minor": 4
}
