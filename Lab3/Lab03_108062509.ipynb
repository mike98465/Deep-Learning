{
  "nbformat": 4,
  "nbformat_minor": 0,
  "metadata": {
    "colab": {
      "name": "Lab03_108062509.ipynb",
      "provenance": []
    },
    "kernelspec": {
      "name": "python3",
      "display_name": "Python 3"
    }
  },
  "cells": [
    {
      "cell_type": "code",
      "metadata": {
        "id": "_fvOcoJN8Gnt",
        "colab_type": "code",
        "outputId": "4ef4dfd8-21b7-49ce-95c6-e835cef1357f",
        "colab": {
          "base_uri": "https://localhost:8080/",
          "height": 88
        }
      },
      "source": [
        "from sklearn.tree import DecisionTreeClassifier\n",
        "from sklearn.model_selection import train_test_split\n",
        "from sklearn.datasets import load_breast_cancer\n",
        "import pandas as pd\n",
        "from sklearn.metrics import accuracy_score\n",
        "from sklearn.ensemble import RandomForestClassifier\n",
        "\n",
        "# load the breast_cancer dataset\n",
        "init_data = load_breast_cancer()\n",
        "(X, y) = load_breast_cancer(return_X_y=True)\n",
        "X = pd.DataFrame(data=X, columns=init_data['feature_names'])\n",
        "y = pd.DataFrame(data=y, columns=['label'])\n",
        "\n",
        "Z_forest = X[['worst concave points',\n",
        "              'mean concave points'\n",
        "             ]].values\n",
        "\n",
        "# split X into training and testing sets\n",
        "Z_forest_train, Z_forest_test, y_forest_train, y_forest_test = train_test_split(Z_forest, y, test_size=0.3, random_state=0)\n",
        "\n",
        "# Train a RandomForestClassifier as model \n",
        "forest = RandomForestClassifier(criterion='entropy',\n",
        "                                #max_features = 2,\n",
        "                                n_estimators=200, \n",
        "                                random_state=1,\n",
        "                                n_jobs=2)\n",
        "forest.fit(Z_forest_train, y_forest_train)\n",
        "\n",
        "y_pred = forest.predict(Z_forest_test)\n",
        "print('Accuracy: %.2f' % accuracy_score(y_forest_test, y_pred))\n",
        "print('Accuracy per feature: %.2f' % (accuracy_score(y_forest_test, y_pred)/Z_forest.shape[1]))"
      ],
      "execution_count": 48,
      "outputs": [
        {
          "output_type": "stream",
          "text": [
            "/usr/local/lib/python3.6/dist-packages/ipykernel_launcher.py:27: DataConversionWarning: A column-vector y was passed when a 1d array was expected. Please change the shape of y to (n_samples,), for example using ravel().\n"
          ],
          "name": "stderr"
        },
        {
          "output_type": "stream",
          "text": [
            "Accuracy: 0.89\n",
            "Accuracy per feature: 0.44\n"
          ],
          "name": "stdout"
        }
      ]
    }
  ]
}